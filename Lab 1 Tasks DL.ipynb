{
 "cells": [
  {
   "cell_type": "markdown",
   "id": "fcf58d7c",
   "metadata": {},
   "source": [
    "## Lab Task 1\n",
    "Write a Python program that multiplies a TensorFlow tensor by a scalar value and prints the result."
   ]
  },
  {
   "cell_type": "code",
   "execution_count": 2,
   "id": "22ec8df4",
   "metadata": {},
   "outputs": [
    {
     "data": {
      "text/plain": [
       "array([[ 5, 10],\n",
       "       [15, 20]])"
      ]
     },
     "execution_count": 2,
     "metadata": {},
     "output_type": "execute_result"
    }
   ],
   "source": [
    "import tensorflow as tf\n",
    "tf.compat.v1.disable_eager_execution()\n",
    "tensor = tf.constant([[1, 2], [3, 4]])\n",
    "scalar = tf.constant(5)\n",
    "result = tensor * scalar\n",
    "ssn = tf.compat.v1.Session()\n",
    "ssn.run(result)"
   ]
  },
  {
   "cell_type": "markdown",
   "id": "db301ee5",
   "metadata": {},
   "source": [
    "## Lab Task 2\n",
    "Write a Python program that uses TensorFlow to compute the dot product of two vectors (1-D tensors)."
   ]
  },
  {
   "cell_type": "code",
   "execution_count": 13,
   "id": "90e2494b",
   "metadata": {},
   "outputs": [
    {
     "name": "stdout",
     "output_type": "stream",
     "text": [
      "Vector 1: [24. 31.]\n",
      "Vector 2: [6. 8.]\n",
      "Dot Product: 392.0\n"
     ]
    }
   ],
   "source": [
    "import tensorflow as tf\n",
    "tf.compat.v1.disable_eager_execution()\n",
    "v1 = tf.constant([24.0, 31.0], dtype=tf.float32)\n",
    "v2 = tf.constant([6.0, 8.0], dtype=tf.float32)\n",
    "\n",
    "dot_product = tf.reduce_sum(tf.multiply(v1, v2))\n",
    "\n",
    "ssn = tf.compat.v1.Session()\n",
    "dot_product_value = ssn.run(dot_product)\n",
    "print(\"Vector 1:\", v1_value)\n",
    "print(\"Vector 2:\", v2_value)\n",
    "print(\"Dot Product:\", dot_product_value)\n"
   ]
  },
  {
   "cell_type": "markdown",
   "id": "eccb380c",
   "metadata": {},
   "source": [
    "## Lab Task 3\n",
    "Write a TensorFlow program that creates two matrices, matrix1 and matrix2, with the following values:\n",
    "matrix1 = [[1, 2],\n",
    "                 [3, 4]]\n",
    "matrix2 = [[5, 6],\n",
    "                [7, 8]]\n",
    "Perform the athematic operations on these matrices.\n"
   ]
  },
  {
   "cell_type": "code",
   "execution_count": 19,
   "id": "3c872321",
   "metadata": {},
   "outputs": [
    {
     "name": "stdout",
     "output_type": "stream",
     "text": [
      "Matrix1 + Matrix2:\n",
      "[[ 6.  8.]\n",
      " [10. 12.]]\n",
      "\n",
      "Matrix1 - Matrix2:\n",
      "[[-4. -4.]\n",
      " [-4. -4.]]\n",
      "\n",
      "Element-wise multiplication of Matrix1 and Matrix2:\n",
      "[[ 5. 12.]\n",
      " [21. 32.]]\n",
      "\n",
      "Matrix multiplication of Matrix1 and Matrix2:\n",
      "[[19. 22.]\n",
      " [43. 50.]]\n"
     ]
    }
   ],
   "source": [
    "import tensorflow as tf\n",
    "tf.compat.v1.disable_eager_execution()\n",
    "matrix1 = tf.constant([[1, 2],\n",
    "                       [3, 4]], dtype=tf.float32)\n",
    "matrix2 = tf.constant([[5, 6],\n",
    "                       [7, 8]], dtype=tf.float32)\n",
    "addition_result = tf.add(matrix1, matrix2)\n",
    "\n",
    "subtraction_result = tf.subtract(matrix1, matrix2)\n",
    "\n",
    "element_wise_multiplication_result = tf.multiply(matrix1, matrix2)\n",
    "\n",
    "matrix_multiplication_result = tf.matmul(matrix1, matrix2)\n",
    "\n",
    "ssn = tf.compat.v1.Session()    \n",
    "add_res, sub_res, ele_mul_res, mat_mul_res = ssn.run([addition_result, subtraction_result, \n",
    "                                                           element_wise_multiplication_result, \n",
    "                                                           matrix_multiplication_result])\n",
    "print(\"Matrix1 + Matrix2:\")\n",
    "print(add_res)\n",
    "print(\"\\nMatrix1 - Matrix2:\")\n",
    "print(sub_res)\n",
    "print(\"\\nElement-wise multiplication of Matrix1 and Matrix2:\")\n",
    "print(ele_mul_res)\n",
    "print(\"\\nMatrix multiplication of Matrix1 and Matrix2:\")\n",
    "print(mat_mul_res)\n"
   ]
  },
  {
   "cell_type": "markdown",
   "id": "aece073f",
   "metadata": {},
   "source": [
    "# Exercises\n"
   ]
  },
  {
   "cell_type": "markdown",
   "id": "98edeee4",
   "metadata": {},
   "source": [
    "##### 1. Create a vector, scalar, matrix and tensor with values of your choosing using tf.constant()."
   ]
  },
  {
   "cell_type": "code",
   "execution_count": 22,
   "id": "19504253",
   "metadata": {},
   "outputs": [
    {
     "name": "stdout",
     "output_type": "stream",
     "text": [
      "Vector:\n",
      "[1. 2. 3. 4.]\n",
      "\n",
      "Scalar:\n",
      "5.0\n",
      "\n",
      "Matrix:\n",
      "[[1. 2. 3.]\n",
      " [4. 5. 6.]]\n",
      "\n",
      "Tensor:\n",
      "[[[1. 2.]\n",
      "  [3. 4.]]\n",
      "\n",
      " [[5. 6.]\n",
      "  [7. 8.]]]\n"
     ]
    }
   ],
   "source": [
    "import tensorflow as tf\n",
    "tf.compat.v1.disable_eager_execution()\n",
    "\n",
    "vector = tf.constant([1, 2, 3, 4], dtype=tf.float32)\n",
    "\n",
    "scalar = tf.constant(5, dtype=tf.float32)\n",
    "\n",
    "matrix = tf.constant([[1, 2, 3],\n",
    "                      [4, 5, 6]], dtype=tf.float32)\n",
    "\n",
    "tensor = tf.constant([[[1, 2],\n",
    "                       [3, 4]],\n",
    "                      [[5, 6],\n",
    "                       [7, 8]]], dtype=tf.float32)\n",
    "\n",
    "sess = tf.compat.v1.Session()\n",
    "print(\"Vector:\")\n",
    "print(sess.run(vector))\n",
    "print(\"\\nScalar:\")\n",
    "print(sess.run(scalar))\n",
    "print(\"\\nMatrix:\")\n",
    "print(sess.run(matrix))\n",
    "print(\"\\nTensor:\")\n",
    "print(sess.run(tensor))\n"
   ]
  },
  {
   "cell_type": "markdown",
   "id": "276e3c12",
   "metadata": {},
   "source": [
    "##### 2. Find the shape, rank and size of the tensors you created in 1."
   ]
  },
  {
   "cell_type": "code",
   "execution_count": 24,
   "id": "650ec6bf",
   "metadata": {},
   "outputs": [
    {
     "name": "stdout",
     "output_type": "stream",
     "text": [
      "Vector:\n",
      "Shape: [4] Rank: 1 Size: 4\n",
      "\n",
      "Scalar:\n",
      "Shape: [] Rank: 0 Size: 1\n",
      "\n",
      "Matrix:\n",
      "Shape: [2 3] Rank: 2 Size: 6\n",
      "\n",
      "Tensor:\n",
      "Shape: [2 2 2] Rank: 3 Size: 8\n"
     ]
    }
   ],
   "source": [
    "sess = tf.compat.v1.Session()\n",
    "\n",
    "vector_shape = sess.run(tf.shape(vector))\n",
    "scalar_shape = sess.run(tf.shape(scalar))\n",
    "matrix_shape = sess.run(tf.shape(matrix))\n",
    "tensor_shape = sess.run(tf.shape(tensor))\n",
    "\n",
    "vector_rank = sess.run(tf.rank(vector))\n",
    "scalar_rank = sess.run(tf.rank(scalar))\n",
    "matrix_rank = sess.run(tf.rank(matrix))\n",
    "tensor_rank = sess.run(tf.rank(tensor))\n",
    "\n",
    "vector_size = sess.run(tf.size(vector))\n",
    "scalar_size = sess.run(tf.size(scalar))\n",
    "matrix_size = sess.run(tf.size(matrix))\n",
    "tensor_size = sess.run(tf.size(tensor))\n",
    "\n",
    "print(\"Vector:\")\n",
    "print(\"Shape:\", vector_shape, \"Rank:\", vector_rank, \"Size:\", vector_size)\n",
    "\n",
    "print(\"\\nScalar:\")\n",
    "print(\"Shape:\", scalar_shape, \"Rank:\", scalar_rank, \"Size:\", scalar_size)\n",
    "\n",
    "print(\"\\nMatrix:\")\n",
    "print(\"Shape:\", matrix_shape, \"Rank:\", matrix_rank, \"Size:\", matrix_size)\n",
    "\n",
    "print(\"\\nTensor:\")\n",
    "print(\"Shape:\", tensor_shape, \"Rank:\", tensor_rank, \"Size:\", tensor_size)"
   ]
  },
  {
   "cell_type": "markdown",
   "id": "8aca310a",
   "metadata": {},
   "source": [
    "##### 3. Create two tensors containing random values between 0 and 1 with shape [5, 300]."
   ]
  },
  {
   "cell_type": "code",
   "execution_count": 30,
   "id": "4e0445a8",
   "metadata": {},
   "outputs": [
    {
     "name": "stdout",
     "output_type": "stream",
     "text": [
      "Tensor 1:\n",
      " [[0.02024376 0.76899207 0.05383217 ... 0.01619196 0.5849967  0.01460612]\n",
      " [0.41906726 0.8145306  0.6317235  ... 0.55733263 0.4752823  0.9187498 ]\n",
      " [0.13452888 0.93715763 0.5274875  ... 0.8994812  0.5418043  0.2340033 ]\n",
      " [0.27825558 0.45291996 0.10290205 ... 0.09021378 0.11492252 0.6987332 ]\n",
      " [0.39241397 0.65440536 0.05290377 ... 0.2753861  0.49361002 0.2129544 ]]\n",
      "\n",
      "Tensor 2:\n",
      " [[0.14619696 0.20528913 0.368384   ... 0.3559811  0.57277405 0.12540042]\n",
      " [0.29488277 0.36479867 0.64533925 ... 0.6325718  0.06968927 0.7721995 ]\n",
      " [0.6461791  0.12864041 0.8132862  ... 0.65396345 0.1423701  0.31417906]\n",
      " [0.29586315 0.62227273 0.1227262  ... 0.8956716  0.28186107 0.26218796]\n",
      " [0.8690783  0.7324915  0.16243398 ... 0.56842697 0.09731209 0.98287165]]\n"
     ]
    }
   ],
   "source": [
    "import tensorflow as tf\n",
    "\n",
    "tensor1 = tf.random.uniform(shape=[5, 300], minval=0, maxval=1, dtype=tf.float32)\n",
    "tensor2 = tf.random.uniform(shape=[5, 300], minval=0, maxval=1, dtype=tf.float32)\n",
    "\n",
    "sess = tf.compat.v1.Session()\n",
    "tensor1_value = sess.run(tensor1)\n",
    "tensor2_value = sess.run(tensor2)\n",
    "\n",
    "print(\"Tensor 1:\\n\",tensor1_value)\n",
    "print(\"\\nTensor 2:\\n\",tensor2_value)\n"
   ]
  },
  {
   "cell_type": "markdown",
   "id": "ef99de80",
   "metadata": {},
   "source": [
    "##### 4. Multiply the two tensors you created in 3 using matrix multiplication."
   ]
  },
  {
   "cell_type": "code",
   "execution_count": 29,
   "id": "8aac3c89",
   "metadata": {},
   "outputs": [
    {
     "name": "stdout",
     "output_type": "stream",
     "text": [
      "Matrix multiplication result:\n",
      " [[70.527336 70.107544 72.52654  71.525276 79.655464]\n",
      " [76.30344  70.96175  76.251656 70.39782  82.47867 ]\n",
      " [76.7223   72.924995 77.71913  75.66389  81.15171 ]\n",
      " [73.1607   74.39006  79.54282  74.15027  81.5573  ]\n",
      " [71.430504 69.09885  75.971924 72.78395  77.352234]]\n"
     ]
    }
   ],
   "source": [
    "matrix_multiplication_result = tf.matmul(tensor1, tf.transpose(tensor2))\n",
    "sess = tf.compat.v1.Session()\n",
    "result = sess.run(matrix_multiplication_result)\n",
    "print(\"Matrix multiplication result:\\n\",result)"
   ]
  },
  {
   "cell_type": "markdown",
   "id": "abf5546b",
   "metadata": {},
   "source": [
    "##### 5. Multiply the two tensors you created in 3 using dot product."
   ]
  },
  {
   "cell_type": "code",
   "execution_count": 32,
   "id": "87d357a6",
   "metadata": {},
   "outputs": [
    {
     "name": "stdout",
     "output_type": "stream",
     "text": [
      "Dot product result:\n",
      " [[72.20374  70.55221  67.55761  72.88498  68.814964]\n",
      " [80.69154  75.6477   73.52484  75.92659  77.81783 ]\n",
      " [74.86025  75.07703  72.06238  74.87934  72.35481 ]\n",
      " [73.122635 72.26059  71.34543  76.92683  71.22512 ]\n",
      " [77.06219  72.40884  71.521286 76.82638  72.62781 ]]\n"
     ]
    }
   ],
   "source": [
    "tensor2_reshaped = tf.reshape(tensor2, [300, 5])\n",
    "dot_product_result = tf.tensordot(tensor1, tensor2_reshaped, axes=1)\n",
    "sess = tf.compat.v1.Session()\n",
    "result = sess.run(dot_product_result)\n",
    "print(\"Dot product result:\\n\",result)"
   ]
  },
  {
   "cell_type": "markdown",
   "id": "7bd9a1e7",
   "metadata": {},
   "source": [
    "##### 6. Create a tensor with random values between 0 and 1 with shape [224, 224, 3]."
   ]
  },
  {
   "cell_type": "code",
   "execution_count": 33,
   "id": "12d16950",
   "metadata": {},
   "outputs": [
    {
     "name": "stdout",
     "output_type": "stream",
     "text": [
      "Tensor values: [[[0.97847927 0.7221184  0.73543155]\n",
      "  [0.8285693  0.895944   0.08531463]\n",
      "  [0.50707567 0.75155604 0.3375374 ]\n",
      "  ...\n",
      "  [0.9213853  0.2731433  0.45559144]\n",
      "  [0.9039563  0.9636191  0.12951219]\n",
      "  [0.30465984 0.47995794 0.66440547]]\n",
      "\n",
      " [[0.60646117 0.32544982 0.47417104]\n",
      "  [0.42668438 0.6804249  0.32489157]\n",
      "  [0.873392   0.58431625 0.82819223]\n",
      "  ...\n",
      "  [0.27867806 0.55014586 0.5460228 ]\n",
      "  [0.34530532 0.23290169 0.14335835]\n",
      "  [0.76687753 0.64185965 0.7148682 ]]\n",
      "\n",
      " [[0.97997177 0.35478568 0.9630947 ]\n",
      "  [0.80602276 0.25458896 0.20050335]\n",
      "  [0.12704551 0.9548582  0.6191722 ]\n",
      "  ...\n",
      "  [0.03908718 0.7196462  0.08705604]\n",
      "  [0.42363358 0.15122223 0.78844154]\n",
      "  [0.8510518  0.557117   0.02922857]]\n",
      "\n",
      " ...\n",
      "\n",
      " [[0.76408184 0.49782407 0.08758283]\n",
      "  [0.804219   0.0573436  0.44361353]\n",
      "  [0.45256603 0.9432602  0.44489288]\n",
      "  ...\n",
      "  [0.49705303 0.40367556 0.3964157 ]\n",
      "  [0.11628187 0.9323095  0.48297822]\n",
      "  [0.24967694 0.8453021  0.7631316 ]]\n",
      "\n",
      " [[0.9928235  0.43785655 0.7565563 ]\n",
      "  [0.20062923 0.85956085 0.65481687]\n",
      "  [0.13658297 0.8416761  0.58445334]\n",
      "  ...\n",
      "  [0.31398475 0.5282885  0.3691913 ]\n",
      "  [0.75624907 0.74157774 0.9053309 ]\n",
      "  [0.98471904 0.0828253  0.9440577 ]]\n",
      "\n",
      " [[0.7689643  0.5504489  0.88322926]\n",
      "  [0.27058673 0.1931752  0.61160123]\n",
      "  [0.8848845  0.46591723 0.6090623 ]\n",
      "  ...\n",
      "  [0.24381995 0.2644521  0.46241665]\n",
      "  [0.18914378 0.30813253 0.98078203]\n",
      "  [0.29563725 0.75063956 0.12853718]]]\n"
     ]
    }
   ],
   "source": [
    "import tensorflow as tf\n",
    "tensor = tf.random.uniform(shape=[224, 224, 3], minval=0, maxval=1, dtype=tf.float32)\n",
    "sess = tf.compat.v1.Session()\n",
    "tensor_value = sess.run(tensor)\n",
    "print(\"Tensor values:\",tensor_value)\n"
   ]
  },
  {
   "cell_type": "markdown",
   "id": "4621264e",
   "metadata": {},
   "source": [
    "##### 7. Find the min and max values of the tensor you created in 6."
   ]
  },
  {
   "cell_type": "code",
   "execution_count": 34,
   "id": "af2d1897",
   "metadata": {},
   "outputs": [
    {
     "name": "stdout",
     "output_type": "stream",
     "text": [
      "Minimum value: 5.00679e-06\n",
      "Maximum value: 0.99998367\n"
     ]
    }
   ],
   "source": [
    "min_value = tf.reduce_min(tensor)\n",
    "max_value = tf.reduce_max(tensor)\n",
    "sess = tf.compat.v1.Session()\n",
    "min_val, max_val = sess.run([min_value, max_value])\n",
    "print(\"Minimum value:\", min_val)\n",
    "print(\"Maximum value:\", max_val)"
   ]
  },
  {
   "cell_type": "markdown",
   "id": "1f477b52",
   "metadata": {},
   "source": [
    "##### 8. Created a tensor with random values of shape [1, 224, 224, 3] then squeeze it to change the shape to [224, 224, 3]."
   ]
  },
  {
   "cell_type": "code",
   "execution_count": 36,
   "id": "896e5e1c",
   "metadata": {},
   "outputs": [
    {
     "name": "stdout",
     "output_type": "stream",
     "text": [
      "Original Tensor Shape: (1, 224, 224, 3)\n",
      "Squeezed Tensor Shape: (224, 224, 3)\n"
     ]
    }
   ],
   "source": [
    "import tensorflow as tf\n",
    "\n",
    "tensor = tf.random.uniform(shape=[1, 224, 224, 3], minval=0, maxval=1, dtype=tf.float32)\n",
    "squeezed_tensor = tf.squeeze(tensor)\n",
    "\n",
    "print(\"Original Tensor Shape:\", tensor.shape)\n",
    "print(\"Squeezed Tensor Shape:\", squeezed_tensor.shape)"
   ]
  },
  {
   "cell_type": "markdown",
   "id": "028058f3",
   "metadata": {},
   "source": [
    "##### 9. Create a tensor with shape [10] using your own choice of values, then find the index which has the maximum value."
   ]
  },
  {
   "cell_type": "code",
   "execution_count": 40,
   "id": "988e24e7",
   "metadata": {},
   "outputs": [
    {
     "name": "stdout",
     "output_type": "stream",
     "text": [
      "Index of maximum value: 3\n"
     ]
    }
   ],
   "source": [
    "import tensorflow as tf\n",
    "\n",
    "values = [3, 7, 2, 9, 1, 5, 8, 4, 6, 0]\n",
    "tensor = tf.constant(values, dtype=tf.int32)\n",
    "max_value_index = tf.argmax(tensor)\n",
    "\n",
    "sess = tf.compat.v1.Session()\n",
    "max_index = sess.run(max_value_index)\n",
    "\n",
    "print(\"Index of maximum value:\", max_index)"
   ]
  },
  {
   "cell_type": "markdown",
   "id": "4ea9d57a",
   "metadata": {},
   "source": [
    "##### 10. One-hot encode the tensor you created in 9."
   ]
  },
  {
   "cell_type": "code",
   "execution_count": 42,
   "id": "4380f6aa",
   "metadata": {},
   "outputs": [
    {
     "name": "stdout",
     "output_type": "stream",
     "text": [
      "One-hot encoded tensor:\n",
      " [[0. 0. 0. 1. 0. 0. 0. 0. 0. 0.]\n",
      " [0. 0. 0. 0. 0. 0. 0. 1. 0. 0.]\n",
      " [0. 0. 1. 0. 0. 0. 0. 0. 0. 0.]\n",
      " [0. 0. 0. 0. 0. 0. 0. 0. 0. 1.]\n",
      " [0. 1. 0. 0. 0. 0. 0. 0. 0. 0.]\n",
      " [0. 0. 0. 0. 0. 1. 0. 0. 0. 0.]\n",
      " [0. 0. 0. 0. 0. 0. 0. 0. 1. 0.]\n",
      " [0. 0. 0. 0. 1. 0. 0. 0. 0. 0.]\n",
      " [0. 0. 0. 0. 0. 0. 1. 0. 0. 0.]\n",
      " [1. 0. 0. 0. 0. 0. 0. 0. 0. 0.]]\n"
     ]
    }
   ],
   "source": [
    "max_value = tf.reduce_max(tensor)\n",
    "sess = tf.compat.v1.Session()\n",
    "one_hot_encoded = tf.one_hot(tensor, depth=max_value+1)\n",
    "one_hot_encoded_result = sess.run(one_hot_encoded)\n",
    "print(\"One-hot encoded tensor:\\n\",one_hot_encoded_result)"
   ]
  }
 ],
 "metadata": {
  "kernelspec": {
   "display_name": "Python 3 (ipykernel)",
   "language": "python",
   "name": "python3"
  },
  "language_info": {
   "codemirror_mode": {
    "name": "ipython",
    "version": 3
   },
   "file_extension": ".py",
   "mimetype": "text/x-python",
   "name": "python",
   "nbconvert_exporter": "python",
   "pygments_lexer": "ipython3",
   "version": "3.11.5"
  }
 },
 "nbformat": 4,
 "nbformat_minor": 5
}
